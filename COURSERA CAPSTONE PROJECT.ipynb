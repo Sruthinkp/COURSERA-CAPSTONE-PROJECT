{
 "cells": [
  {
   "cell_type": "markdown",
   "id": "407909b0-2bb4-496f-b48c-160d49d920af",
   "metadata": {},
   "source": [
    "# COURSERA CAPSTONE PROJECT"
   ]
  },
  {
   "cell_type": "markdown",
   "id": "41ed9a5d-2363-4fa0-b9d7-aca4cb368c35",
   "metadata": {},
   "source": [
    "## THIS NOTE BOOK IS MAINLY USED FOR COURSERA CAPSTONE PROJECT"
   ]
  },
  {
   "cell_type": "code",
   "execution_count": 2,
   "id": "e2f44ed6-e46c-4593-bda9-4d6903b68614",
   "metadata": {},
   "outputs": [],
   "source": [
    "import pandas as pd"
   ]
  },
  {
   "cell_type": "code",
   "execution_count": 5,
   "id": "0b22e4e0-f22c-414e-94c1-ac5e7bf65e51",
   "metadata": {},
   "outputs": [],
   "source": [
    "import numpy as np"
   ]
  },
  {
   "cell_type": "code",
   "execution_count": 6,
   "id": "01467fcb-1286-4393-a994-138cd1021ab5",
   "metadata": {},
   "outputs": [
    {
     "name": "stdout",
     "output_type": "stream",
     "text": [
      "Hello Capstone Project Course!\n"
     ]
    }
   ],
   "source": [
    "print(\"Hello Capstone Project Course!\")"
   ]
  }
 ],
 "metadata": {
  "kernelspec": {
   "display_name": "Python",
   "language": "python",
   "name": "conda-env-python-py"
  },
  "language_info": {
   "codemirror_mode": {
    "name": "ipython",
    "version": 3
   },
   "file_extension": ".py",
   "mimetype": "text/x-python",
   "name": "python",
   "nbconvert_exporter": "python",
   "pygments_lexer": "ipython3",
   "version": "3.6.13"
  }
 },
 "nbformat": 4,
 "nbformat_minor": 5
}
